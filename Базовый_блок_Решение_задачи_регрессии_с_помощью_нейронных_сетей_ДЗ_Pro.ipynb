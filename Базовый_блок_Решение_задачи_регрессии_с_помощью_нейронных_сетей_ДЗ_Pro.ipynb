{
  "cells": [
    {
      "cell_type": "markdown",
      "metadata": {
        "id": "view-in-github",
        "colab_type": "text"
      },
      "source": [
        "<a href=\"https://colab.research.google.com/github/Pentuhov/PR-AI6/blob/main/%D0%91%D0%B0%D0%B7%D0%BE%D0%B2%D1%8B%D0%B9_%D0%B1%D0%BB%D0%BE%D0%BA_%D0%A0%D0%B5%D1%88%D0%B5%D0%BD%D0%B8%D0%B5_%D0%B7%D0%B0%D0%B4%D0%B0%D1%87%D0%B8_%D1%80%D0%B5%D0%B3%D1%80%D0%B5%D1%81%D1%81%D0%B8%D0%B8_%D1%81_%D0%BF%D0%BE%D0%BC%D0%BE%D1%89%D1%8C%D1%8E_%D0%BD%D0%B5%D0%B9%D1%80%D0%BE%D0%BD%D0%BD%D1%8B%D1%85_%D1%81%D0%B5%D1%82%D0%B5%D0%B9_%D0%94%D0%97_Pro.ipynb\" target=\"_parent\"><img src=\"https://colab.research.google.com/assets/colab-badge.svg\" alt=\"Open In Colab\"/></a>"
      ]
    },
    {
      "cell_type": "markdown",
      "metadata": {
        "id": "31cbeZ-A5L3N"
      },
      "source": [
        "На базе баскетбольных матчей добейтесь средней абсолютной ошибки 17 и менее очков."
      ]
    },
    {
      "cell_type": "markdown",
      "metadata": {
        "id": "C5L189Dd1jHp"
      },
      "source": [
        "### Подготовка  "
      ]
    },
    {
      "cell_type": "code",
      "execution_count": 1,
      "metadata": {
        "colab": {
          "base_uri": "https://localhost:8080/",
          "height": 206
        },
        "id": "HPU6-yDKisB2",
        "outputId": "58f03ba6-570c-40ee-e01d-ba16edcc2b33"
      },
      "outputs": [
        {
          "output_type": "execute_result",
          "data": {
            "text/plain": [
              "   TOTAL                                               info  Ком. 1  Ком. 2  \\\n",
              "0   98,5  4081445 Новая Зеландия. Женщины. WBC. Регулярн...       2     0.0   \n",
              "1  100,5  4081445 Новая Зеландия. Женщины. WBC. Регулярн...       2     2.0   \n",
              "2   99,5  4081445 Новая Зеландия. Женщины. WBC. Регулярн...       2     2.0   \n",
              "3   98,5  4081445 Новая Зеландия. Женщины. WBC. Регулярн...       2     2.0   \n",
              "4   95,5  4081445 Новая Зеландия. Женщины. WBC. Регулярн...       2     2.0   \n",
              "\n",
              "   Минута  Общая минута  Секунда  fcount  ftime  \n",
              "0       1           1.0       30      81   90.0  \n",
              "1       1           1.0       45      81  105.0  \n",
              "2       2           2.0        0      81  120.0  \n",
              "3       2           2.0       30      81  150.0  \n",
              "4       3           3.0        0      81  180.0  "
            ],
            "text/html": [
              "\n",
              "  <div id=\"df-a9111215-4dac-4f06-a2f9-1d1cd2311bbb\" class=\"colab-df-container\">\n",
              "    <div>\n",
              "<style scoped>\n",
              "    .dataframe tbody tr th:only-of-type {\n",
              "        vertical-align: middle;\n",
              "    }\n",
              "\n",
              "    .dataframe tbody tr th {\n",
              "        vertical-align: top;\n",
              "    }\n",
              "\n",
              "    .dataframe thead th {\n",
              "        text-align: right;\n",
              "    }\n",
              "</style>\n",
              "<table border=\"1\" class=\"dataframe\">\n",
              "  <thead>\n",
              "    <tr style=\"text-align: right;\">\n",
              "      <th></th>\n",
              "      <th>TOTAL</th>\n",
              "      <th>info</th>\n",
              "      <th>Ком. 1</th>\n",
              "      <th>Ком. 2</th>\n",
              "      <th>Минута</th>\n",
              "      <th>Общая минута</th>\n",
              "      <th>Секунда</th>\n",
              "      <th>fcount</th>\n",
              "      <th>ftime</th>\n",
              "    </tr>\n",
              "  </thead>\n",
              "  <tbody>\n",
              "    <tr>\n",
              "      <th>0</th>\n",
              "      <td>98,5</td>\n",
              "      <td>4081445 Новая Зеландия. Женщины. WBC. Регулярн...</td>\n",
              "      <td>2</td>\n",
              "      <td>0.0</td>\n",
              "      <td>1</td>\n",
              "      <td>1.0</td>\n",
              "      <td>30</td>\n",
              "      <td>81</td>\n",
              "      <td>90.0</td>\n",
              "    </tr>\n",
              "    <tr>\n",
              "      <th>1</th>\n",
              "      <td>100,5</td>\n",
              "      <td>4081445 Новая Зеландия. Женщины. WBC. Регулярн...</td>\n",
              "      <td>2</td>\n",
              "      <td>2.0</td>\n",
              "      <td>1</td>\n",
              "      <td>1.0</td>\n",
              "      <td>45</td>\n",
              "      <td>81</td>\n",
              "      <td>105.0</td>\n",
              "    </tr>\n",
              "    <tr>\n",
              "      <th>2</th>\n",
              "      <td>99,5</td>\n",
              "      <td>4081445 Новая Зеландия. Женщины. WBC. Регулярн...</td>\n",
              "      <td>2</td>\n",
              "      <td>2.0</td>\n",
              "      <td>2</td>\n",
              "      <td>2.0</td>\n",
              "      <td>0</td>\n",
              "      <td>81</td>\n",
              "      <td>120.0</td>\n",
              "    </tr>\n",
              "    <tr>\n",
              "      <th>3</th>\n",
              "      <td>98,5</td>\n",
              "      <td>4081445 Новая Зеландия. Женщины. WBC. Регулярн...</td>\n",
              "      <td>2</td>\n",
              "      <td>2.0</td>\n",
              "      <td>2</td>\n",
              "      <td>2.0</td>\n",
              "      <td>30</td>\n",
              "      <td>81</td>\n",
              "      <td>150.0</td>\n",
              "    </tr>\n",
              "    <tr>\n",
              "      <th>4</th>\n",
              "      <td>95,5</td>\n",
              "      <td>4081445 Новая Зеландия. Женщины. WBC. Регулярн...</td>\n",
              "      <td>2</td>\n",
              "      <td>2.0</td>\n",
              "      <td>3</td>\n",
              "      <td>3.0</td>\n",
              "      <td>0</td>\n",
              "      <td>81</td>\n",
              "      <td>180.0</td>\n",
              "    </tr>\n",
              "  </tbody>\n",
              "</table>\n",
              "</div>\n",
              "    <div class=\"colab-df-buttons\">\n",
              "\n",
              "  <div class=\"colab-df-container\">\n",
              "    <button class=\"colab-df-convert\" onclick=\"convertToInteractive('df-a9111215-4dac-4f06-a2f9-1d1cd2311bbb')\"\n",
              "            title=\"Convert this dataframe to an interactive table.\"\n",
              "            style=\"display:none;\">\n",
              "\n",
              "  <svg xmlns=\"http://www.w3.org/2000/svg\" height=\"24px\" viewBox=\"0 -960 960 960\">\n",
              "    <path d=\"M120-120v-720h720v720H120Zm60-500h600v-160H180v160Zm220 220h160v-160H400v160Zm0 220h160v-160H400v160ZM180-400h160v-160H180v160Zm440 0h160v-160H620v160ZM180-180h160v-160H180v160Zm440 0h160v-160H620v160Z\"/>\n",
              "  </svg>\n",
              "    </button>\n",
              "\n",
              "  <style>\n",
              "    .colab-df-container {\n",
              "      display:flex;\n",
              "      gap: 12px;\n",
              "    }\n",
              "\n",
              "    .colab-df-convert {\n",
              "      background-color: #E8F0FE;\n",
              "      border: none;\n",
              "      border-radius: 50%;\n",
              "      cursor: pointer;\n",
              "      display: none;\n",
              "      fill: #1967D2;\n",
              "      height: 32px;\n",
              "      padding: 0 0 0 0;\n",
              "      width: 32px;\n",
              "    }\n",
              "\n",
              "    .colab-df-convert:hover {\n",
              "      background-color: #E2EBFA;\n",
              "      box-shadow: 0px 1px 2px rgba(60, 64, 67, 0.3), 0px 1px 3px 1px rgba(60, 64, 67, 0.15);\n",
              "      fill: #174EA6;\n",
              "    }\n",
              "\n",
              "    .colab-df-buttons div {\n",
              "      margin-bottom: 4px;\n",
              "    }\n",
              "\n",
              "    [theme=dark] .colab-df-convert {\n",
              "      background-color: #3B4455;\n",
              "      fill: #D2E3FC;\n",
              "    }\n",
              "\n",
              "    [theme=dark] .colab-df-convert:hover {\n",
              "      background-color: #434B5C;\n",
              "      box-shadow: 0px 1px 3px 1px rgba(0, 0, 0, 0.15);\n",
              "      filter: drop-shadow(0px 1px 2px rgba(0, 0, 0, 0.3));\n",
              "      fill: #FFFFFF;\n",
              "    }\n",
              "  </style>\n",
              "\n",
              "    <script>\n",
              "      const buttonEl =\n",
              "        document.querySelector('#df-a9111215-4dac-4f06-a2f9-1d1cd2311bbb button.colab-df-convert');\n",
              "      buttonEl.style.display =\n",
              "        google.colab.kernel.accessAllowed ? 'block' : 'none';\n",
              "\n",
              "      async function convertToInteractive(key) {\n",
              "        const element = document.querySelector('#df-a9111215-4dac-4f06-a2f9-1d1cd2311bbb');\n",
              "        const dataTable =\n",
              "          await google.colab.kernel.invokeFunction('convertToInteractive',\n",
              "                                                    [key], {});\n",
              "        if (!dataTable) return;\n",
              "\n",
              "        const docLinkHtml = 'Like what you see? Visit the ' +\n",
              "          '<a target=\"_blank\" href=https://colab.research.google.com/notebooks/data_table.ipynb>data table notebook</a>'\n",
              "          + ' to learn more about interactive tables.';\n",
              "        element.innerHTML = '';\n",
              "        dataTable['output_type'] = 'display_data';\n",
              "        await google.colab.output.renderOutput(dataTable, element);\n",
              "        const docLink = document.createElement('div');\n",
              "        docLink.innerHTML = docLinkHtml;\n",
              "        element.appendChild(docLink);\n",
              "      }\n",
              "    </script>\n",
              "  </div>\n",
              "\n",
              "\n",
              "    <div id=\"df-b0301e0f-3dad-42ec-b405-a40bf62380b4\">\n",
              "      <button class=\"colab-df-quickchart\" onclick=\"quickchart('df-b0301e0f-3dad-42ec-b405-a40bf62380b4')\"\n",
              "                title=\"Suggest charts\"\n",
              "                style=\"display:none;\">\n",
              "\n",
              "<svg xmlns=\"http://www.w3.org/2000/svg\" height=\"24px\"viewBox=\"0 0 24 24\"\n",
              "     width=\"24px\">\n",
              "    <g>\n",
              "        <path d=\"M19 3H5c-1.1 0-2 .9-2 2v14c0 1.1.9 2 2 2h14c1.1 0 2-.9 2-2V5c0-1.1-.9-2-2-2zM9 17H7v-7h2v7zm4 0h-2V7h2v10zm4 0h-2v-4h2v4z\"/>\n",
              "    </g>\n",
              "</svg>\n",
              "      </button>\n",
              "\n",
              "<style>\n",
              "  .colab-df-quickchart {\n",
              "      --bg-color: #E8F0FE;\n",
              "      --fill-color: #1967D2;\n",
              "      --hover-bg-color: #E2EBFA;\n",
              "      --hover-fill-color: #174EA6;\n",
              "      --disabled-fill-color: #AAA;\n",
              "      --disabled-bg-color: #DDD;\n",
              "  }\n",
              "\n",
              "  [theme=dark] .colab-df-quickchart {\n",
              "      --bg-color: #3B4455;\n",
              "      --fill-color: #D2E3FC;\n",
              "      --hover-bg-color: #434B5C;\n",
              "      --hover-fill-color: #FFFFFF;\n",
              "      --disabled-bg-color: #3B4455;\n",
              "      --disabled-fill-color: #666;\n",
              "  }\n",
              "\n",
              "  .colab-df-quickchart {\n",
              "    background-color: var(--bg-color);\n",
              "    border: none;\n",
              "    border-radius: 50%;\n",
              "    cursor: pointer;\n",
              "    display: none;\n",
              "    fill: var(--fill-color);\n",
              "    height: 32px;\n",
              "    padding: 0;\n",
              "    width: 32px;\n",
              "  }\n",
              "\n",
              "  .colab-df-quickchart:hover {\n",
              "    background-color: var(--hover-bg-color);\n",
              "    box-shadow: 0 1px 2px rgba(60, 64, 67, 0.3), 0 1px 3px 1px rgba(60, 64, 67, 0.15);\n",
              "    fill: var(--button-hover-fill-color);\n",
              "  }\n",
              "\n",
              "  .colab-df-quickchart-complete:disabled,\n",
              "  .colab-df-quickchart-complete:disabled:hover {\n",
              "    background-color: var(--disabled-bg-color);\n",
              "    fill: var(--disabled-fill-color);\n",
              "    box-shadow: none;\n",
              "  }\n",
              "\n",
              "  .colab-df-spinner {\n",
              "    border: 2px solid var(--fill-color);\n",
              "    border-color: transparent;\n",
              "    border-bottom-color: var(--fill-color);\n",
              "    animation:\n",
              "      spin 1s steps(1) infinite;\n",
              "  }\n",
              "\n",
              "  @keyframes spin {\n",
              "    0% {\n",
              "      border-color: transparent;\n",
              "      border-bottom-color: var(--fill-color);\n",
              "      border-left-color: var(--fill-color);\n",
              "    }\n",
              "    20% {\n",
              "      border-color: transparent;\n",
              "      border-left-color: var(--fill-color);\n",
              "      border-top-color: var(--fill-color);\n",
              "    }\n",
              "    30% {\n",
              "      border-color: transparent;\n",
              "      border-left-color: var(--fill-color);\n",
              "      border-top-color: var(--fill-color);\n",
              "      border-right-color: var(--fill-color);\n",
              "    }\n",
              "    40% {\n",
              "      border-color: transparent;\n",
              "      border-right-color: var(--fill-color);\n",
              "      border-top-color: var(--fill-color);\n",
              "    }\n",
              "    60% {\n",
              "      border-color: transparent;\n",
              "      border-right-color: var(--fill-color);\n",
              "    }\n",
              "    80% {\n",
              "      border-color: transparent;\n",
              "      border-right-color: var(--fill-color);\n",
              "      border-bottom-color: var(--fill-color);\n",
              "    }\n",
              "    90% {\n",
              "      border-color: transparent;\n",
              "      border-bottom-color: var(--fill-color);\n",
              "    }\n",
              "  }\n",
              "</style>\n",
              "\n",
              "      <script>\n",
              "        async function quickchart(key) {\n",
              "          const quickchartButtonEl =\n",
              "            document.querySelector('#' + key + ' button');\n",
              "          quickchartButtonEl.disabled = true;  // To prevent multiple clicks.\n",
              "          quickchartButtonEl.classList.add('colab-df-spinner');\n",
              "          try {\n",
              "            const charts = await google.colab.kernel.invokeFunction(\n",
              "                'suggestCharts', [key], {});\n",
              "          } catch (error) {\n",
              "            console.error('Error during call to suggestCharts:', error);\n",
              "          }\n",
              "          quickchartButtonEl.classList.remove('colab-df-spinner');\n",
              "          quickchartButtonEl.classList.add('colab-df-quickchart-complete');\n",
              "        }\n",
              "        (() => {\n",
              "          let quickchartButtonEl =\n",
              "            document.querySelector('#df-b0301e0f-3dad-42ec-b405-a40bf62380b4 button');\n",
              "          quickchartButtonEl.style.display =\n",
              "            google.colab.kernel.accessAllowed ? 'block' : 'none';\n",
              "        })();\n",
              "      </script>\n",
              "    </div>\n",
              "    </div>\n",
              "  </div>\n"
            ],
            "application/vnd.google.colaboratory.intrinsic+json": {
              "type": "dataframe",
              "variable_name": "df",
              "summary": "{\n  \"name\": \"df\",\n  \"rows\": 52450,\n  \"fields\": [\n    {\n      \"column\": \"TOTAL\",\n      \"properties\": {\n        \"dtype\": \"category\",\n        \"num_unique_values\": 332,\n        \"samples\": [\n          \"84\",\n          \"264\",\n          \"150,5\"\n        ],\n        \"semantic_type\": \"\",\n        \"description\": \"\"\n      }\n    },\n    {\n      \"column\": \"info\",\n      \"properties\": {\n        \"dtype\": \"category\",\n        \"num_unique_values\": 435,\n        \"samples\": [\n          \"4039105 \\u0420\\u043e\\u0441\\u0441\\u0438\\u044f. \\u0416\\u0435\\u043d\\u0449\\u0438\\u043d\\u044b. \\u0421\\u0443\\u043f\\u0435\\u0440\\u043b\\u0438\\u0433\\u0430. 1-\\u0439 \\u0434\\u0438\\u0432\\u0438\\u0437\\u0438\\u043e\\u043d(\\u041b\\u0430\\u0434\\u043e\\u0433\\u0430 - \\u0423\\u0413\\u041c\\u041a-\\u042e\\u043d\\u0438\\u043e\\u0440)\\n\",\n          \"4086847 \\u0413\\u0435\\u0440\\u043c\\u0430\\u043d\\u0438\\u044f. \\u041c\\u0443\\u0436\\u0447\\u0438\\u043d\\u044b. \\u0411\\u0443\\u043d\\u0434\\u0435\\u0441\\u043b\\u0438\\u0433\\u0430(\\u0410\\u0439\\u0441\\u0431\\u0435\\u0440\\u0435\\u043d - \\u0413\\u0435\\u0442\\u0442\\u0438\\u043d\\u0433\\u0435\\u043d)\\n\",\n          \"4167739 \\u0420\\u043e\\u0441\\u0441\\u0438\\u044f. \\u0416\\u0435\\u043d\\u0449\\u0438\\u043d\\u044b. \\u041f\\u0440\\u0435\\u043c\\u044c\\u0435\\u0440-\\u043b\\u0438\\u0433\\u0430. \\u041f\\u043b\\u0435\\u0439-\\u043e\\u0444\\u0444. 3-\\u0435 \\u043c\\u0435\\u0441\\u0442\\u043e(\\u0421\\u043f\\u0430\\u0440\\u0442\\u0430 & \\u041a \\u0412\\u0438\\u0434\\u043d\\u043e\\u0435 - \\u0414\\u0438\\u043d\\u0430\\u043c\\u043e \\u041a\\u0443\\u0440\\u0441\\u043a)\\n\"\n        ],\n        \"semantic_type\": \"\",\n        \"description\": \"\"\n      }\n    },\n    {\n      \"column\": \"\\u041a\\u043e\\u043c. 1\",\n      \"properties\": {\n        \"dtype\": \"number\",\n        \"std\": 24,\n        \"min\": 0,\n        \"max\": 139,\n        \"num_unique_values\": 131,\n        \"samples\": [\n          20,\n          65,\n          36\n        ],\n        \"semantic_type\": \"\",\n        \"description\": \"\"\n      }\n    },\n    {\n      \"column\": \"\\u041a\\u043e\\u043c. 2\",\n      \"properties\": {\n        \"dtype\": \"number\",\n        \"std\": 23.383734502837306,\n        \"min\": 0.0,\n        \"max\": 134.0,\n        \"num_unique_values\": 130,\n        \"samples\": [\n          49.0,\n          57.0,\n          37.0\n        ],\n        \"semantic_type\": \"\",\n        \"description\": \"\"\n      }\n    },\n    {\n      \"column\": \"\\u041c\\u0438\\u043d\\u0443\\u0442\\u0430\",\n      \"properties\": {\n        \"dtype\": \"number\",\n        \"std\": 2,\n        \"min\": 0,\n        \"max\": 12,\n        \"num_unique_values\": 13,\n        \"samples\": [\n          11,\n          5,\n          1\n        ],\n        \"semantic_type\": \"\",\n        \"description\": \"\"\n      }\n    },\n    {\n      \"column\": \"\\u041e\\u0431\\u0449\\u0430\\u044f \\u043c\\u0438\\u043d\\u0443\\u0442\\u0430\",\n      \"properties\": {\n        \"dtype\": \"number\",\n        \"std\": 11.658991621858886,\n        \"min\": 0.0,\n        \"max\": 55.0,\n        \"num_unique_values\": 56,\n        \"samples\": [\n          1.0,\n          7.0,\n          39.0\n        ],\n        \"semantic_type\": \"\",\n        \"description\": \"\"\n      }\n    },\n    {\n      \"column\": \"\\u0421\\u0435\\u043a\\u0443\\u043d\\u0434\\u0430\",\n      \"properties\": {\n        \"dtype\": \"number\",\n        \"std\": 16,\n        \"min\": 0,\n        \"max\": 55,\n        \"num_unique_values\": 12,\n        \"samples\": [\n          25,\n          10,\n          30\n        ],\n        \"semantic_type\": \"\",\n        \"description\": \"\"\n      }\n    },\n    {\n      \"column\": \"fcount\",\n      \"properties\": {\n        \"dtype\": \"number\",\n        \"std\": 24,\n        \"min\": 2,\n        \"max\": 273,\n        \"num_unique_values\": 112,\n        \"samples\": [\n          161,\n          123,\n          176\n        ],\n        \"semantic_type\": \"\",\n        \"description\": \"\"\n      }\n    },\n    {\n      \"column\": \"ftime\",\n      \"properties\": {\n        \"dtype\": \"number\",\n        \"std\": 699.629708532713,\n        \"min\": 5.0,\n        \"max\": 3300.0,\n        \"num_unique_values\": 408,\n        \"samples\": [\n          2220.0,\n          2390.0,\n          2320.0\n        ],\n        \"semantic_type\": \"\",\n        \"description\": \"\"\n      }\n    }\n  ]\n}"
            }
          },
          "metadata": {},
          "execution_count": 1
        }
      ],
      "source": [
        "# Загрузка из google облака\n",
        "import gdown\n",
        "gdown.download('https://storage.yandexcloud.net/aiueducation/Content/base/l10/basketball.csv', None, quiet=True)\n",
        "\n",
        "# Библиотека для работы с базами\n",
        "import pandas as pd\n",
        "df = pd.read_csv('basketball.csv', encoding= 'cp1251', sep=';', header=0, index_col=0) # Загружаем базу\n",
        "df.head()"
      ]
    },
    {
      "cell_type": "markdown",
      "metadata": {
        "id": "WppGhbAXCrJ2"
      },
      "source": [
        "Извлекаем текстовые данные из колонки `info` таблицы, помещаем в переменную `data_text`. Выводим длину списка:"
      ]
    },
    {
      "cell_type": "code",
      "execution_count": 2,
      "metadata": {
        "colab": {
          "base_uri": "https://localhost:8080/"
        },
        "id": "kqMfqc7VA9AA",
        "outputId": "2473d47a-5f57-4a52-fbfb-ff759bbc17d7"
      },
      "outputs": [
        {
          "output_type": "execute_result",
          "data": {
            "text/plain": [
              "52450"
            ]
          },
          "metadata": {},
          "execution_count": 2
        }
      ],
      "source": [
        "data_text = df['info'].values #\n",
        "\n",
        "len(data_text) #"
      ]
    },
    {
      "cell_type": "markdown",
      "metadata": {
        "id": "5hvulCqhDKg6"
      },
      "source": [
        "Задаем максимальное кол-во слов в словаре, помещаем в переменную все символы, которые хотим вычистить из текста.\n",
        "\n",
        " Токенизируем текстовые данные:"
      ]
    },
    {
      "cell_type": "code",
      "execution_count": 3,
      "metadata": {
        "id": "e5dpDy4NDFYr"
      },
      "outputs": [],
      "source": [
        "# Импортируем токенайзер\n",
        "from tensorflow.keras.preprocessing.text import Tokenizer\n",
        "\n",
        "maxWordsCount = 5000\n",
        "\n",
        "sim_for_del='!\"#$%&()*+,-./:;<=>?@[\\\\]^_`{|}~\\t\\n'\n",
        "\n",
        "tokenizer = Tokenizer (num_words=maxWordsCount,\n",
        "                       filters=sim_for_del,\n",
        "                       lower=True,\n",
        "                       split=' ',\n",
        "                       oov_token='unknown',\n",
        "                       char_level=False)\n",
        "\n",
        "tokenizer.fit_on_texts(data_text)"
      ]
    },
    {
      "cell_type": "code",
      "execution_count": 4,
      "metadata": {
        "id": "bz3TreMTDQgo"
      },
      "outputs": [],
      "source": [
        "# Переводим в Эмбеддинг пространство\n",
        "Sequences = tokenizer.texts_to_sequences(data_text)\n",
        "\n",
        "# Вариант  Bag of Words\n",
        "xBOW_text = tokenizer.sequences_to_matrix(Sequences)"
      ]
    },
    {
      "cell_type": "markdown",
      "metadata": {
        "id": "gIxLqUl_EnAX"
      },
      "source": [
        "Преобразуем данные в numpy, подготовим наборы для обучения:"
      ]
    },
    {
      "cell_type": "code",
      "execution_count": 5,
      "metadata": {
        "id": "-GlIabOhEp8b"
      },
      "outputs": [],
      "source": [
        "# Библиотека работы с массивами\n",
        "import numpy as np\n",
        "\n",
        "xTrain = np.array(df[['Ком. 1','Ком. 2', 'Минута', 'Секунда','ftime']].astype('int'))\n",
        "yTrain = np.array(df['fcount'].astype('int'))"
      ]
    },
    {
      "cell_type": "code",
      "execution_count": 6,
      "metadata": {
        "colab": {
          "base_uri": "https://localhost:8080/"
        },
        "id": "qCEAj--dEBO8",
        "outputId": "56026c2c-2c83-45db-8c9a-006559a89500"
      },
      "outputs": [
        {
          "output_type": "stream",
          "name": "stdout",
          "text": [
            "(52450, 5)\n",
            "(52450,)\n",
            "(52450, 5000)\n"
          ]
        }
      ],
      "source": [
        "print(xTrain.shape)\n",
        "print(yTrain.shape)\n",
        "print(xBOW_text.shape)"
      ]
    },
    {
      "cell_type": "code",
      "execution_count": 7,
      "metadata": {
        "id": "lUqj01oB8nXa"
      },
      "outputs": [],
      "source": [
        "# Функция по проверке ошибки\n",
        "\n",
        "def check_MAE_predictl_DubbleInput (model,\n",
        "                                    x_data,\n",
        "                                    x_data_text,\n",
        "                                    y_data_not_scaled,\n",
        "                                    plot=False):\n",
        "\n",
        "  mae = 0 # Инициализируем начальное значение ошибки\n",
        "  y_pred = (model.predict([x_data,x_data_text])).squeeze()\n",
        "\n",
        "  for n in range (0,len(x_data)):\n",
        "    mae += abs(y_data_not_scaled[n] - y_pred[n]) # Увеличиваем значение ошибки для текущего элемента\n",
        "  mae /= len(x_data) # Считаем среднее значение\n",
        "  print('Среднаяя абслолютная ошибка {:.3f} очков это {:.3f}% от общей выборки в {} игры'.format(mae, (mae/y_data_not_scaled.mean(axis=0))*100,len(x_data)))\n",
        "\n",
        "  if plot:\n",
        "     plt.scatter(y_data_not_scaled, y_pred)\n",
        "     plt.xlabel('Правильные значение')\n",
        "     plt.ylabel('Предсказания')\n",
        "     plt.axis('equal')\n",
        "     plt.xlim(plt.xlim())\n",
        "     plt.ylim(plt.ylim())\n",
        "     plt.plot([0, 250], [0, 250])\n",
        "     plt.show()"
      ]
    },
    {
      "cell_type": "code",
      "execution_count": 8,
      "metadata": {
        "id": "WPflxZCvOs9d"
      },
      "outputs": [],
      "source": [
        "def on_epoch_end_custom(epoch, logs=None):\n",
        "    check_MAE_predictl_DubbleInput(model_final_scaled,xTrain_scaled,xBOW_text,yTrain,plot=True)"
      ]
    },
    {
      "cell_type": "code",
      "execution_count": null,
      "metadata": {
        "id": "dvmmCQLFwf4e"
      },
      "outputs": [],
      "source": [
        "# ваше решение"
      ]
    },
    {
      "cell_type": "code",
      "source": [
        "from tensorflow.keras.models import Model\n",
        "from tensorflow.keras.layers import Input, Dense, Embedding, LSTM, Concatenate, Flatten\n",
        "\n",
        "# Определение входов\n",
        "input_numeric = Input(shape=(xTrain.shape[1],))\n",
        "input_text = Input(shape=(xBOW_text.shape[1],))\n",
        "\n",
        "# Вход для текста\n",
        "x_text = Dense(128, activation='relu')(input_text)\n",
        "x_text = Flatten()(x_text)\n",
        "\n",
        "# Соединяем оба ввода\n",
        "combined = Concatenate()([input_numeric, x_text])\n",
        "\n",
        "# Полносвязные слои\n",
        "z = Dense(64, activation='relu')(combined)\n",
        "z = Dense(32, activation='relu')(z)\n",
        "output = Dense(1)(z)  # Один выход для предсказания очков\n",
        "\n",
        "# Создаем модель\n",
        "model_final_scaled = Model(inputs=[input_numeric, input_text], outputs=output)\n",
        "model_final_scaled.compile(optimizer='adam', loss='mean_absolute_error')\n",
        "\n",
        "# Обучение модели\n",
        "model_final_scaled.fit([xTrain, xBOW_text], yTrain, epochs=50, batch_size=32)"
      ],
      "metadata": {
        "colab": {
          "base_uri": "https://localhost:8080/"
        },
        "id": "RriUIxejM7ZY",
        "outputId": "9a0ecded-661f-4a2a-b488-af2b23b60d72"
      },
      "execution_count": 9,
      "outputs": [
        {
          "output_type": "stream",
          "name": "stdout",
          "text": [
            "Epoch 1/50\n",
            "\u001b[1m1640/1640\u001b[0m \u001b[32m━━━━━━━━━━━━━━━━━━━━\u001b[0m\u001b[37m\u001b[0m \u001b[1m7s\u001b[0m 3ms/step - loss: 24.7497\n",
            "Epoch 2/50\n",
            "\u001b[1m1640/1640\u001b[0m \u001b[32m━━━━━━━━━━━━━━━━━━━━\u001b[0m\u001b[37m\u001b[0m \u001b[1m10s\u001b[0m 4ms/step - loss: 2.5339\n",
            "Epoch 3/50\n",
            "\u001b[1m1640/1640\u001b[0m \u001b[32m━━━━━━━━━━━━━━━━━━━━\u001b[0m\u001b[37m\u001b[0m \u001b[1m8s\u001b[0m 2ms/step - loss: 2.4212\n",
            "Epoch 4/50\n",
            "\u001b[1m1640/1640\u001b[0m \u001b[32m━━━━━━━━━━━━━━━━━━━━\u001b[0m\u001b[37m\u001b[0m \u001b[1m4s\u001b[0m 3ms/step - loss: 2.1431\n",
            "Epoch 5/50\n",
            "\u001b[1m1640/1640\u001b[0m \u001b[32m━━━━━━━━━━━━━━━━━━━━\u001b[0m\u001b[37m\u001b[0m \u001b[1m4s\u001b[0m 2ms/step - loss: 2.0136\n",
            "Epoch 6/50\n",
            "\u001b[1m1640/1640\u001b[0m \u001b[32m━━━━━━━━━━━━━━━━━━━━\u001b[0m\u001b[37m\u001b[0m \u001b[1m5s\u001b[0m 2ms/step - loss: 1.8272\n",
            "Epoch 7/50\n",
            "\u001b[1m1640/1640\u001b[0m \u001b[32m━━━━━━━━━━━━━━━━━━━━\u001b[0m\u001b[37m\u001b[0m \u001b[1m4s\u001b[0m 3ms/step - loss: 1.7742\n",
            "Epoch 8/50\n",
            "\u001b[1m1640/1640\u001b[0m \u001b[32m━━━━━━━━━━━━━━━━━━━━\u001b[0m\u001b[37m\u001b[0m \u001b[1m4s\u001b[0m 2ms/step - loss: 1.5199\n",
            "Epoch 9/50\n",
            "\u001b[1m1640/1640\u001b[0m \u001b[32m━━━━━━━━━━━━━━━━━━━━\u001b[0m\u001b[37m\u001b[0m \u001b[1m4s\u001b[0m 2ms/step - loss: 1.5456\n",
            "Epoch 10/50\n",
            "\u001b[1m1640/1640\u001b[0m \u001b[32m━━━━━━━━━━━━━━━━━━━━\u001b[0m\u001b[37m\u001b[0m \u001b[1m4s\u001b[0m 3ms/step - loss: 1.4637\n",
            "Epoch 11/50\n",
            "\u001b[1m1640/1640\u001b[0m \u001b[32m━━━━━━━━━━━━━━━━━━━━\u001b[0m\u001b[37m\u001b[0m \u001b[1m4s\u001b[0m 2ms/step - loss: 1.4029\n",
            "Epoch 12/50\n",
            "\u001b[1m1640/1640\u001b[0m \u001b[32m━━━━━━━━━━━━━━━━━━━━\u001b[0m\u001b[37m\u001b[0m \u001b[1m6s\u001b[0m 3ms/step - loss: 1.3467\n",
            "Epoch 13/50\n",
            "\u001b[1m1640/1640\u001b[0m \u001b[32m━━━━━━━━━━━━━━━━━━━━\u001b[0m\u001b[37m\u001b[0m \u001b[1m4s\u001b[0m 2ms/step - loss: 1.2606\n",
            "Epoch 14/50\n",
            "\u001b[1m1640/1640\u001b[0m \u001b[32m━━━━━━━━━━━━━━━━━━━━\u001b[0m\u001b[37m\u001b[0m \u001b[1m4s\u001b[0m 2ms/step - loss: 1.2668\n",
            "Epoch 15/50\n",
            "\u001b[1m1640/1640\u001b[0m \u001b[32m━━━━━━━━━━━━━━━━━━━━\u001b[0m\u001b[37m\u001b[0m \u001b[1m6s\u001b[0m 3ms/step - loss: 1.1960\n",
            "Epoch 16/50\n",
            "\u001b[1m1640/1640\u001b[0m \u001b[32m━━━━━━━━━━━━━━━━━━━━\u001b[0m\u001b[37m\u001b[0m \u001b[1m4s\u001b[0m 2ms/step - loss: 1.1349\n",
            "Epoch 17/50\n",
            "\u001b[1m1640/1640\u001b[0m \u001b[32m━━━━━━━━━━━━━━━━━━━━\u001b[0m\u001b[37m\u001b[0m \u001b[1m5s\u001b[0m 2ms/step - loss: 1.0397\n",
            "Epoch 18/50\n",
            "\u001b[1m1640/1640\u001b[0m \u001b[32m━━━━━━━━━━━━━━━━━━━━\u001b[0m\u001b[37m\u001b[0m \u001b[1m5s\u001b[0m 2ms/step - loss: 1.0325\n",
            "Epoch 19/50\n",
            "\u001b[1m1640/1640\u001b[0m \u001b[32m━━━━━━━━━━━━━━━━━━━━\u001b[0m\u001b[37m\u001b[0m \u001b[1m5s\u001b[0m 2ms/step - loss: 1.0382\n",
            "Epoch 20/50\n",
            "\u001b[1m1640/1640\u001b[0m \u001b[32m━━━━━━━━━━━━━━━━━━━━\u001b[0m\u001b[37m\u001b[0m \u001b[1m5s\u001b[0m 2ms/step - loss: 0.9866\n",
            "Epoch 21/50\n",
            "\u001b[1m1640/1640\u001b[0m \u001b[32m━━━━━━━━━━━━━━━━━━━━\u001b[0m\u001b[37m\u001b[0m \u001b[1m4s\u001b[0m 2ms/step - loss: 1.0843\n",
            "Epoch 22/50\n",
            "\u001b[1m1640/1640\u001b[0m \u001b[32m━━━━━━━━━━━━━━━━━━━━\u001b[0m\u001b[37m\u001b[0m \u001b[1m6s\u001b[0m 3ms/step - loss: 0.9133\n",
            "Epoch 23/50\n",
            "\u001b[1m1640/1640\u001b[0m \u001b[32m━━━━━━━━━━━━━━━━━━━━\u001b[0m\u001b[37m\u001b[0m \u001b[1m4s\u001b[0m 2ms/step - loss: 0.9111\n",
            "Epoch 24/50\n",
            "\u001b[1m1640/1640\u001b[0m \u001b[32m━━━━━━━━━━━━━━━━━━━━\u001b[0m\u001b[37m\u001b[0m \u001b[1m4s\u001b[0m 2ms/step - loss: 0.8501\n",
            "Epoch 25/50\n",
            "\u001b[1m1640/1640\u001b[0m \u001b[32m━━━━━━━━━━━━━━━━━━━━\u001b[0m\u001b[37m\u001b[0m \u001b[1m6s\u001b[0m 3ms/step - loss: 0.8994\n",
            "Epoch 26/50\n",
            "\u001b[1m1640/1640\u001b[0m \u001b[32m━━━━━━━━━━━━━━━━━━━━\u001b[0m\u001b[37m\u001b[0m \u001b[1m4s\u001b[0m 2ms/step - loss: 0.8500\n",
            "Epoch 27/50\n",
            "\u001b[1m1640/1640\u001b[0m \u001b[32m━━━━━━━━━━━━━━━━━━━━\u001b[0m\u001b[37m\u001b[0m \u001b[1m4s\u001b[0m 2ms/step - loss: 0.8262\n",
            "Epoch 28/50\n",
            "\u001b[1m1640/1640\u001b[0m \u001b[32m━━━━━━━━━━━━━━━━━━━━\u001b[0m\u001b[37m\u001b[0m \u001b[1m4s\u001b[0m 3ms/step - loss: 0.7711\n",
            "Epoch 29/50\n",
            "\u001b[1m1640/1640\u001b[0m \u001b[32m━━━━━━━━━━━━━━━━━━━━\u001b[0m\u001b[37m\u001b[0m \u001b[1m4s\u001b[0m 2ms/step - loss: 0.7831\n",
            "Epoch 30/50\n",
            "\u001b[1m1640/1640\u001b[0m \u001b[32m━━━━━━━━━━━━━━━━━━━━\u001b[0m\u001b[37m\u001b[0m \u001b[1m4s\u001b[0m 2ms/step - loss: 0.7267\n",
            "Epoch 31/50\n",
            "\u001b[1m1640/1640\u001b[0m \u001b[32m━━━━━━━━━━━━━━━━━━━━\u001b[0m\u001b[37m\u001b[0m \u001b[1m4s\u001b[0m 3ms/step - loss: 0.7684\n",
            "Epoch 32/50\n",
            "\u001b[1m1640/1640\u001b[0m \u001b[32m━━━━━━━━━━━━━━━━━━━━\u001b[0m\u001b[37m\u001b[0m \u001b[1m4s\u001b[0m 2ms/step - loss: 0.7434\n",
            "Epoch 33/50\n",
            "\u001b[1m1640/1640\u001b[0m \u001b[32m━━━━━━━━━━━━━━━━━━━━\u001b[0m\u001b[37m\u001b[0m \u001b[1m4s\u001b[0m 2ms/step - loss: 0.7106\n",
            "Epoch 34/50\n",
            "\u001b[1m1640/1640\u001b[0m \u001b[32m━━━━━━━━━━━━━━━━━━━━\u001b[0m\u001b[37m\u001b[0m \u001b[1m4s\u001b[0m 3ms/step - loss: 0.6890\n",
            "Epoch 35/50\n",
            "\u001b[1m1640/1640\u001b[0m \u001b[32m━━━━━━━━━━━━━━━━━━━━\u001b[0m\u001b[37m\u001b[0m \u001b[1m4s\u001b[0m 2ms/step - loss: 0.7350\n",
            "Epoch 36/50\n",
            "\u001b[1m1640/1640\u001b[0m \u001b[32m━━━━━━━━━━━━━━━━━━━━\u001b[0m\u001b[37m\u001b[0m \u001b[1m5s\u001b[0m 2ms/step - loss: 0.7053\n",
            "Epoch 37/50\n",
            "\u001b[1m1640/1640\u001b[0m \u001b[32m━━━━━━━━━━━━━━━━━━━━\u001b[0m\u001b[37m\u001b[0m \u001b[1m4s\u001b[0m 3ms/step - loss: 0.6713\n",
            "Epoch 38/50\n",
            "\u001b[1m1640/1640\u001b[0m \u001b[32m━━━━━━━━━━━━━━━━━━━━\u001b[0m\u001b[37m\u001b[0m \u001b[1m4s\u001b[0m 2ms/step - loss: 0.7161\n",
            "Epoch 39/50\n",
            "\u001b[1m1640/1640\u001b[0m \u001b[32m━━━━━━━━━━━━━━━━━━━━\u001b[0m\u001b[37m\u001b[0m \u001b[1m6s\u001b[0m 3ms/step - loss: 0.6831\n",
            "Epoch 40/50\n",
            "\u001b[1m1640/1640\u001b[0m \u001b[32m━━━━━━━━━━━━━━━━━━━━\u001b[0m\u001b[37m\u001b[0m \u001b[1m4s\u001b[0m 2ms/step - loss: 0.6710\n",
            "Epoch 41/50\n",
            "\u001b[1m1640/1640\u001b[0m \u001b[32m━━━━━━━━━━━━━━━━━━━━\u001b[0m\u001b[37m\u001b[0m \u001b[1m5s\u001b[0m 2ms/step - loss: 0.6689\n",
            "Epoch 42/50\n",
            "\u001b[1m1640/1640\u001b[0m \u001b[32m━━━━━━━━━━━━━━━━━━━━\u001b[0m\u001b[37m\u001b[0m \u001b[1m6s\u001b[0m 3ms/step - loss: 0.6651\n",
            "Epoch 43/50\n",
            "\u001b[1m1640/1640\u001b[0m \u001b[32m━━━━━━━━━━━━━━━━━━━━\u001b[0m\u001b[37m\u001b[0m \u001b[1m4s\u001b[0m 2ms/step - loss: 0.6726\n",
            "Epoch 44/50\n",
            "\u001b[1m1640/1640\u001b[0m \u001b[32m━━━━━━━━━━━━━━━━━━━━\u001b[0m\u001b[37m\u001b[0m \u001b[1m5s\u001b[0m 2ms/step - loss: 0.6433\n",
            "Epoch 45/50\n",
            "\u001b[1m1640/1640\u001b[0m \u001b[32m━━━━━━━━━━━━━━━━━━━━\u001b[0m\u001b[37m\u001b[0m \u001b[1m4s\u001b[0m 3ms/step - loss: 0.6212\n",
            "Epoch 46/50\n",
            "\u001b[1m1640/1640\u001b[0m \u001b[32m━━━━━━━━━━━━━━━━━━━━\u001b[0m\u001b[37m\u001b[0m \u001b[1m4s\u001b[0m 2ms/step - loss: 0.6154\n",
            "Epoch 47/50\n",
            "\u001b[1m1640/1640\u001b[0m \u001b[32m━━━━━━━━━━━━━━━━━━━━\u001b[0m\u001b[37m\u001b[0m \u001b[1m4s\u001b[0m 2ms/step - loss: 0.6222\n",
            "Epoch 48/50\n",
            "\u001b[1m1640/1640\u001b[0m \u001b[32m━━━━━━━━━━━━━━━━━━━━\u001b[0m\u001b[37m\u001b[0m \u001b[1m5s\u001b[0m 2ms/step - loss: 0.6182\n",
            "Epoch 49/50\n",
            "\u001b[1m1640/1640\u001b[0m \u001b[32m━━━━━━━━━━━━━━━━━━━━\u001b[0m\u001b[37m\u001b[0m \u001b[1m5s\u001b[0m 2ms/step - loss: 0.5782\n",
            "Epoch 50/50\n",
            "\u001b[1m1640/1640\u001b[0m \u001b[32m━━━━━━━━━━━━━━━━━━━━\u001b[0m\u001b[37m\u001b[0m \u001b[1m6s\u001b[0m 3ms/step - loss: 0.5897\n"
          ]
        },
        {
          "output_type": "execute_result",
          "data": {
            "text/plain": [
              "<keras.src.callbacks.history.History at 0x780019378e10>"
            ]
          },
          "metadata": {},
          "execution_count": 9
        }
      ]
    },
    {
      "cell_type": "code",
      "source": [
        "check_MAE_predictl_DubbleInput(model_final_scaled, xTrain, xBOW_text, yTrain, plot=True)"
      ],
      "metadata": {
        "colab": {
          "base_uri": "https://localhost:8080/",
          "height": 297
        },
        "id": "_UdeS99WOQWI",
        "outputId": "2728bde0-6954-413c-dbce-e5c1c4ad7560"
      },
      "execution_count": 10,
      "outputs": [
        {
          "output_type": "stream",
          "name": "stdout",
          "text": [
            "\u001b[1m1640/1640\u001b[0m \u001b[32m━━━━━━━━━━━━━━━━━━━━\u001b[0m\u001b[37m\u001b[0m \u001b[1m4s\u001b[0m 2ms/step\n",
            "Среднаяя абслолютная ошибка 0.622 очков это 0.411% от общей выборки в 52450 игры\n"
          ]
        },
        {
          "output_type": "error",
          "ename": "NameError",
          "evalue": "name 'plt' is not defined",
          "traceback": [
            "\u001b[0;31m---------------------------------------------------------------------------\u001b[0m",
            "\u001b[0;31mNameError\u001b[0m                                 Traceback (most recent call last)",
            "\u001b[0;32m<ipython-input-10-382155a3c567>\u001b[0m in \u001b[0;36m<cell line: 0>\u001b[0;34m()\u001b[0m\n\u001b[0;32m----> 1\u001b[0;31m \u001b[0mcheck_MAE_predictl_DubbleInput\u001b[0m\u001b[0;34m(\u001b[0m\u001b[0mmodel_final_scaled\u001b[0m\u001b[0;34m,\u001b[0m \u001b[0mxTrain\u001b[0m\u001b[0;34m,\u001b[0m \u001b[0mxBOW_text\u001b[0m\u001b[0;34m,\u001b[0m \u001b[0myTrain\u001b[0m\u001b[0;34m,\u001b[0m \u001b[0mplot\u001b[0m\u001b[0;34m=\u001b[0m\u001b[0;32mTrue\u001b[0m\u001b[0;34m)\u001b[0m\u001b[0;34m\u001b[0m\u001b[0;34m\u001b[0m\u001b[0m\n\u001b[0m",
            "\u001b[0;32m<ipython-input-7-116fe34a7b8b>\u001b[0m in \u001b[0;36mcheck_MAE_predictl_DubbleInput\u001b[0;34m(model, x_data, x_data_text, y_data_not_scaled, plot)\u001b[0m\n\u001b[1;32m     16\u001b[0m \u001b[0;34m\u001b[0m\u001b[0m\n\u001b[1;32m     17\u001b[0m   \u001b[0;32mif\u001b[0m \u001b[0mplot\u001b[0m\u001b[0;34m:\u001b[0m\u001b[0;34m\u001b[0m\u001b[0;34m\u001b[0m\u001b[0m\n\u001b[0;32m---> 18\u001b[0;31m      \u001b[0mplt\u001b[0m\u001b[0;34m.\u001b[0m\u001b[0mscatter\u001b[0m\u001b[0;34m(\u001b[0m\u001b[0my_data_not_scaled\u001b[0m\u001b[0;34m,\u001b[0m \u001b[0my_pred\u001b[0m\u001b[0;34m)\u001b[0m\u001b[0;34m\u001b[0m\u001b[0;34m\u001b[0m\u001b[0m\n\u001b[0m\u001b[1;32m     19\u001b[0m      \u001b[0mplt\u001b[0m\u001b[0;34m.\u001b[0m\u001b[0mxlabel\u001b[0m\u001b[0;34m(\u001b[0m\u001b[0;34m'Правильные значение'\u001b[0m\u001b[0;34m)\u001b[0m\u001b[0;34m\u001b[0m\u001b[0;34m\u001b[0m\u001b[0m\n\u001b[1;32m     20\u001b[0m      \u001b[0mplt\u001b[0m\u001b[0;34m.\u001b[0m\u001b[0mylabel\u001b[0m\u001b[0;34m(\u001b[0m\u001b[0;34m'Предсказания'\u001b[0m\u001b[0;34m)\u001b[0m\u001b[0;34m\u001b[0m\u001b[0;34m\u001b[0m\u001b[0m\n",
            "\u001b[0;31mNameError\u001b[0m: name 'plt' is not defined"
          ]
        }
      ]
    },
    {
      "cell_type": "markdown",
      "metadata": {
        "id": "9bSXt-xD_h7R"
      },
      "source": [
        "Для решения задачи требуются знания по теме `Callbacks`, пожалуйста, изучите раздел:\n",
        "\n",
        "---\n",
        "Дополнителная информация: ([База знаний УИИ – **«Callbacks»**](https://colab.research.google.com/drive/1COE1R3kFhRlxPm9X6hQMvjKoiFFt83xW?usp=sharing))\n",
        "\n",
        "---"
      ]
    }
  ],
  "metadata": {
    "accelerator": "GPU",
    "colab": {
      "provenance": [],
      "include_colab_link": true
    },
    "kernelspec": {
      "display_name": "Python [conda env:base] *",
      "language": "python",
      "name": "conda-base-py"
    },
    "language_info": {
      "codemirror_mode": {
        "name": "ipython",
        "version": 3
      },
      "file_extension": ".py",
      "mimetype": "text/x-python",
      "name": "python",
      "nbconvert_exporter": "python",
      "pygments_lexer": "ipython3",
      "version": "3.12.7"
    }
  },
  "nbformat": 4,
  "nbformat_minor": 0
}