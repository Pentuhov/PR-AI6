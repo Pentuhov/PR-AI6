{
  "cells": [
    {
      "cell_type": "markdown",
      "metadata": {
        "id": "view-in-github",
        "colab_type": "text"
      },
      "source": [
        "<a href=\"https://colab.research.google.com/github/Pentuhov/PR-AI6/blob/main/%D0%91%D0%B0%D0%B7%D0%BE%D0%B2%D1%8B%D0%B9_%D0%B1%D0%BB%D0%BE%D0%BA_%D0%A0%D0%B5%D1%88%D0%B5%D0%BD%D0%B8%D0%B5_%D0%B7%D0%B0%D0%B4%D0%B0%D1%87%D0%B8_%D1%80%D0%B5%D0%B3%D1%80%D0%B5%D1%81%D1%81%D0%B8%D0%B8_%D1%81_%D0%BF%D0%BE%D0%BC%D0%BE%D1%89%D1%8C%D1%8E_%D0%BD%D0%B5%D0%B9%D1%80%D0%BE%D0%BD%D0%BD%D1%8B%D1%85_%D1%81%D0%B5%D1%82%D0%B5%D0%B9_%D0%94%D0%97_Ultra_Pro.ipynb\" target=\"_parent\"><img src=\"https://colab.research.google.com/assets/colab-badge.svg\" alt=\"Open In Colab\"/></a>"
      ]
    },
    {
      "cell_type": "markdown",
      "metadata": {
        "id": "31cbeZ-A5L3N"
      },
      "source": [
        "По базе машин с ЮЛЫ данным обучите модель для предсказания цен на машины.\n",
        "\n",
        "1. Создайте обучающую, тестовую и проверочную выборки.\n",
        "\n",
        "2. Оцените качество работы созданной сети, определив средний процент ошибки на проверочной выборке. (Для этого потребуется привести предсказанные моделью значения к первоначальному диапазону цен.)  \n",
        "\n",
        "3. Подсчитайте ошибку на каждом примере тестовой выборки и суммарный процент ошибки.\n",
        "\n",
        "\n",
        "Рекомендации:\n",
        "- в качестве ошибки рекомендуется использовать среднеквадратическую ошибку (mse).\n",
        "- метрику для данной задачи можно не использовать.\n",
        "- последний слой модели должен иметь 1 нейрон.\n",
        "- суммарный процент ошибки = средний модуль ошибки (MAE) / среднюю цену машины. Например, если средняя цена машины 560.000 р, а средняя ошибка 56.000р, то процент ошибки равен 10%.\n"
      ]
    },
    {
      "cell_type": "code",
      "execution_count": null,
      "metadata": {
        "id": "DSW-0LMrsBqD"
      },
      "outputs": [],
      "source": [
        "# Загрузка датафрейма из google облака\n",
        "import gdown\n",
        "\n",
        "gdown.download('https://storage.yandexcloud.net/aiueducation/Content/base/l10/cars_new.csv', None, quiet=True)"
      ]
    },
    {
      "cell_type": "code",
      "execution_count": null,
      "metadata": {
        "id": "n_VxsmeHo8vb"
      },
      "outputs": [],
      "source": [
        "# Ваше решение"
      ]
    },
    {
      "cell_type": "code",
      "source": [
        "import pandas as pd\n",
        "import gdown\n",
        "\n",
        "# Загрузка датафрейма из Google облака\n",
        "gdown.download('https://storage.yandexcloud.net/aiueducation/Content/base/l10/cars_new.csv', None, quiet=True)\n",
        "\n",
        "# Чтение данных в DataFrame\n",
        "data = pd.read_csv('cars_new.csv')"
      ],
      "metadata": {
        "id": "_DrJKUkWPo0g"
      },
      "execution_count": 1,
      "outputs": []
    },
    {
      "cell_type": "code",
      "source": [
        "# Просмотр первых строк данных\n",
        "print(data.head())\n",
        "\n",
        "# Удаление строк с пропусками\n",
        "data.dropna(inplace=True)\n",
        "\n",
        "# Кодирование категориальных признаков (например, с помощью one-hot encoding)\n",
        "data = pd.get_dummies(data, drop_first=True)\n",
        "\n",
        "# Определение целевой переменной и признаков\n",
        "X = data.drop('price', axis=1)  # замените 'price' на название столбца с ценой, если оно другое\n",
        "y = data['price']"
      ],
      "metadata": {
        "colab": {
          "base_uri": "https://localhost:8080/"
        },
        "id": "bwDDjTbHPpqu",
        "outputId": "6ffbfa8f-8c09-4ede-db7d-a43eb4f02dc4"
      },
      "execution_count": 2,
      "outputs": [
        {
          "output_type": "stream",
          "name": "stdout",
          "text": [
            "        mark                               model   price  year  mileage  \\\n",
            "0        kia                              cerato  996000  2018    28000   \n",
            "1     daewoo  nexia 1 поколение [2-й рестайлинг]  140200  2012    60500   \n",
            "2     suzuki      jimny 3 поколение [рестайлинг]  750000  2011    29000   \n",
            "3        bmw              x1 18 e84 [рестайлинг]  970000  2014    49500   \n",
            "4  chevrolet                 lacetti 1 поколение  205000  2007   151445   \n",
            "\n",
            "          body       kpp    fuel  volume  power  \n",
            "0        седан   автомат  бензин     2.0  150.0  \n",
            "1        седан  механика  бензин     1.5   80.0  \n",
            "2  внедорожник   автомат  бензин     1.3   85.0  \n",
            "3    кроссовер   автомат  бензин     2.0  150.0  \n",
            "4        седан  механика  бензин     1.4   95.0  \n"
          ]
        }
      ]
    },
    {
      "cell_type": "code",
      "source": [
        "from sklearn.model_selection import train_test_split\n",
        "\n",
        "# Создание обучающей, тестовой и проверочной выборок\n",
        "X_train, X_temp, y_train, y_temp = train_test_split(X, y, test_size=0.3, random_state=42)\n",
        "X_val, X_test, y_val, y_test = train_test_split(X_temp, y_temp, test_size=0.5, random_state=42)"
      ],
      "metadata": {
        "id": "g9-FNlduPtGW"
      },
      "execution_count": 3,
      "outputs": []
    },
    {
      "cell_type": "code",
      "source": [
        "import numpy as np\n",
        "from tensorflow import keras\n",
        "from tensorflow.keras import layers\n",
        "\n",
        "# Создание модели\n",
        "model = keras.Sequential()\n",
        "model.add(layers.Dense(64, activation='relu', input_shape=(X_train.shape[1],)))\n",
        "model.add(layers.Dense(32, activation='relu'))\n",
        "model.add(layers.Dense(1))  # Один нейрон на выходе\n",
        "\n",
        "# Компиляция модели\n",
        "model.compile(optimizer='adam', loss='mean_squared_error')\n",
        "\n",
        "# Обучение модели\n",
        "model.fit(X_train, y_train, epochs=100, validation_data=(X_val, y_val), verbose=1)"
      ],
      "metadata": {
        "colab": {
          "base_uri": "https://localhost:8080/"
        },
        "id": "0ryrMvncPxL2",
        "outputId": "f1b6a620-1e76-4d1b-effb-66cbf8134be1"
      },
      "execution_count": 4,
      "outputs": [
        {
          "output_type": "stream",
          "name": "stderr",
          "text": [
            "/usr/local/lib/python3.11/dist-packages/keras/src/layers/core/dense.py:87: UserWarning: Do not pass an `input_shape`/`input_dim` argument to a layer. When using Sequential models, prefer using an `Input(shape)` object as the first layer in the model instead.\n",
            "  super().__init__(activity_regularizer=activity_regularizer, **kwargs)\n"
          ]
        },
        {
          "output_type": "stream",
          "name": "stdout",
          "text": [
            "Epoch 1/100\n",
            "\u001b[1m1534/1534\u001b[0m \u001b[32m━━━━━━━━━━━━━━━━━━━━\u001b[0m\u001b[37m\u001b[0m \u001b[1m13s\u001b[0m 7ms/step - loss: 543253102592.0000 - val_loss: 261812977664.0000\n",
            "Epoch 2/100\n",
            "\u001b[1m1534/1534\u001b[0m \u001b[32m━━━━━━━━━━━━━━━━━━━━\u001b[0m\u001b[37m\u001b[0m \u001b[1m11s\u001b[0m 7ms/step - loss: 265208348672.0000 - val_loss: 233985916928.0000\n",
            "Epoch 3/100\n",
            "\u001b[1m1534/1534\u001b[0m \u001b[32m━━━━━━━━━━━━━━━━━━━━\u001b[0m\u001b[37m\u001b[0m \u001b[1m20s\u001b[0m 7ms/step - loss: 260092739584.0000 - val_loss: 224082378752.0000\n",
            "Epoch 4/100\n",
            "\u001b[1m1534/1534\u001b[0m \u001b[32m━━━━━━━━━━━━━━━━━━━━\u001b[0m\u001b[37m\u001b[0m \u001b[1m10s\u001b[0m 7ms/step - loss: 267717754880.0000 - val_loss: 209892081664.0000\n",
            "Epoch 5/100\n",
            "\u001b[1m1534/1534\u001b[0m \u001b[32m━━━━━━━━━━━━━━━━━━━━\u001b[0m\u001b[37m\u001b[0m \u001b[1m10s\u001b[0m 7ms/step - loss: 280439717888.0000 - val_loss: 198253084672.0000\n",
            "Epoch 6/100\n",
            "\u001b[1m1534/1534\u001b[0m \u001b[32m━━━━━━━━━━━━━━━━━━━━\u001b[0m\u001b[37m\u001b[0m \u001b[1m9s\u001b[0m 6ms/step - loss: 226771861504.0000 - val_loss: 180421787648.0000\n",
            "Epoch 7/100\n",
            "\u001b[1m1534/1534\u001b[0m \u001b[32m━━━━━━━━━━━━━━━━━━━━\u001b[0m\u001b[37m\u001b[0m \u001b[1m11s\u001b[0m 7ms/step - loss: 186275594240.0000 - val_loss: 163965648896.0000\n",
            "Epoch 8/100\n",
            "\u001b[1m1534/1534\u001b[0m \u001b[32m━━━━━━━━━━━━━━━━━━━━\u001b[0m\u001b[37m\u001b[0m \u001b[1m20s\u001b[0m 7ms/step - loss: 177223270400.0000 - val_loss: 147997835264.0000\n",
            "Epoch 9/100\n",
            "\u001b[1m1534/1534\u001b[0m \u001b[32m━━━━━━━━━━━━━━━━━━━━\u001b[0m\u001b[37m\u001b[0m \u001b[1m9s\u001b[0m 6ms/step - loss: 162788737024.0000 - val_loss: 139830312960.0000\n",
            "Epoch 10/100\n",
            "\u001b[1m1534/1534\u001b[0m \u001b[32m━━━━━━━━━━━━━━━━━━━━\u001b[0m\u001b[37m\u001b[0m \u001b[1m11s\u001b[0m 6ms/step - loss: 158233575424.0000 - val_loss: 137040945152.0000\n",
            "Epoch 11/100\n",
            "\u001b[1m1534/1534\u001b[0m \u001b[32m━━━━━━━━━━━━━━━━━━━━\u001b[0m\u001b[37m\u001b[0m \u001b[1m10s\u001b[0m 6ms/step - loss: 155464892416.0000 - val_loss: 134608101376.0000\n",
            "Epoch 12/100\n",
            "\u001b[1m1534/1534\u001b[0m \u001b[32m━━━━━━━━━━━━━━━━━━━━\u001b[0m\u001b[37m\u001b[0m \u001b[1m10s\u001b[0m 6ms/step - loss: 148442251264.0000 - val_loss: 129881055232.0000\n",
            "Epoch 13/100\n",
            "\u001b[1m1534/1534\u001b[0m \u001b[32m━━━━━━━━━━━━━━━━━━━━\u001b[0m\u001b[37m\u001b[0m \u001b[1m10s\u001b[0m 6ms/step - loss: 154027229184.0000 - val_loss: 140117164032.0000\n",
            "Epoch 14/100\n",
            "\u001b[1m1534/1534\u001b[0m \u001b[32m━━━━━━━━━━━━━━━━━━━━\u001b[0m\u001b[37m\u001b[0m \u001b[1m9s\u001b[0m 6ms/step - loss: 154729594880.0000 - val_loss: 127733817344.0000\n",
            "Epoch 15/100\n",
            "\u001b[1m1534/1534\u001b[0m \u001b[32m━━━━━━━━━━━━━━━━━━━━\u001b[0m\u001b[37m\u001b[0m \u001b[1m10s\u001b[0m 6ms/step - loss: 138838245376.0000 - val_loss: 126274789376.0000\n",
            "Epoch 16/100\n",
            "\u001b[1m1534/1534\u001b[0m \u001b[32m━━━━━━━━━━━━━━━━━━━━\u001b[0m\u001b[37m\u001b[0m \u001b[1m10s\u001b[0m 7ms/step - loss: 131597287424.0000 - val_loss: 123692261376.0000\n",
            "Epoch 17/100\n",
            "\u001b[1m1534/1534\u001b[0m \u001b[32m━━━━━━━━━━━━━━━━━━━━\u001b[0m\u001b[37m\u001b[0m \u001b[1m10s\u001b[0m 7ms/step - loss: 138880925696.0000 - val_loss: 122333380608.0000\n",
            "Epoch 18/100\n",
            "\u001b[1m1534/1534\u001b[0m \u001b[32m━━━━━━━━━━━━━━━━━━━━\u001b[0m\u001b[37m\u001b[0m \u001b[1m20s\u001b[0m 6ms/step - loss: 139951800320.0000 - val_loss: 123971444736.0000\n",
            "Epoch 19/100\n",
            "\u001b[1m1534/1534\u001b[0m \u001b[32m━━━━━━━━━━━━━━━━━━━━\u001b[0m\u001b[37m\u001b[0m \u001b[1m11s\u001b[0m 7ms/step - loss: 129344364544.0000 - val_loss: 121463824384.0000\n",
            "Epoch 20/100\n",
            "\u001b[1m1534/1534\u001b[0m \u001b[32m━━━━━━━━━━━━━━━━━━━━\u001b[0m\u001b[37m\u001b[0m \u001b[1m12s\u001b[0m 8ms/step - loss: 146923667456.0000 - val_loss: 121780543488.0000\n",
            "Epoch 21/100\n",
            "\u001b[1m1534/1534\u001b[0m \u001b[32m━━━━━━━━━━━━━━━━━━━━\u001b[0m\u001b[37m\u001b[0m \u001b[1m18s\u001b[0m 7ms/step - loss: 123320295424.0000 - val_loss: 119981039616.0000\n",
            "Epoch 22/100\n",
            "\u001b[1m1534/1534\u001b[0m \u001b[32m━━━━━━━━━━━━━━━━━━━━\u001b[0m\u001b[37m\u001b[0m \u001b[1m10s\u001b[0m 6ms/step - loss: 128682803200.0000 - val_loss: 120207843328.0000\n",
            "Epoch 23/100\n",
            "\u001b[1m1534/1534\u001b[0m \u001b[32m━━━━━━━━━━━━━━━━━━━━\u001b[0m\u001b[37m\u001b[0m \u001b[1m9s\u001b[0m 6ms/step - loss: 132917583872.0000 - val_loss: 120179204096.0000\n",
            "Epoch 24/100\n",
            "\u001b[1m1534/1534\u001b[0m \u001b[32m━━━━━━━━━━━━━━━━━━━━\u001b[0m\u001b[37m\u001b[0m \u001b[1m10s\u001b[0m 7ms/step - loss: 121904316416.0000 - val_loss: 116571029504.0000\n",
            "Epoch 25/100\n",
            "\u001b[1m1534/1534\u001b[0m \u001b[32m━━━━━━━━━━━━━━━━━━━━\u001b[0m\u001b[37m\u001b[0m \u001b[1m10s\u001b[0m 7ms/step - loss: 130755960832.0000 - val_loss: 116359266304.0000\n",
            "Epoch 26/100\n",
            "\u001b[1m1534/1534\u001b[0m \u001b[32m━━━━━━━━━━━━━━━━━━━━\u001b[0m\u001b[37m\u001b[0m \u001b[1m10s\u001b[0m 6ms/step - loss: 136320507904.0000 - val_loss: 113717329920.0000\n",
            "Epoch 27/100\n",
            "\u001b[1m1534/1534\u001b[0m \u001b[32m━━━━━━━━━━━━━━━━━━━━\u001b[0m\u001b[37m\u001b[0m \u001b[1m9s\u001b[0m 6ms/step - loss: 127766945792.0000 - val_loss: 112506298368.0000\n",
            "Epoch 28/100\n",
            "\u001b[1m1534/1534\u001b[0m \u001b[32m━━━━━━━━━━━━━━━━━━━━\u001b[0m\u001b[37m\u001b[0m \u001b[1m10s\u001b[0m 7ms/step - loss: 127845089280.0000 - val_loss: 112323977216.0000\n",
            "Epoch 29/100\n",
            "\u001b[1m1534/1534\u001b[0m \u001b[32m━━━━━━━━━━━━━━━━━━━━\u001b[0m\u001b[37m\u001b[0m \u001b[1m21s\u001b[0m 7ms/step - loss: 125653360640.0000 - val_loss: 114505973760.0000\n",
            "Epoch 30/100\n",
            "\u001b[1m1534/1534\u001b[0m \u001b[32m━━━━━━━━━━━━━━━━━━━━\u001b[0m\u001b[37m\u001b[0m \u001b[1m19s\u001b[0m 6ms/step - loss: 137832480768.0000 - val_loss: 112885612544.0000\n",
            "Epoch 31/100\n",
            "\u001b[1m1534/1534\u001b[0m \u001b[32m━━━━━━━━━━━━━━━━━━━━\u001b[0m\u001b[37m\u001b[0m \u001b[1m10s\u001b[0m 6ms/step - loss: 121730596864.0000 - val_loss: 110445248512.0000\n",
            "Epoch 32/100\n",
            "\u001b[1m1534/1534\u001b[0m \u001b[32m━━━━━━━━━━━━━━━━━━━━\u001b[0m\u001b[37m\u001b[0m \u001b[1m11s\u001b[0m 6ms/step - loss: 109400055808.0000 - val_loss: 110644183040.0000\n",
            "Epoch 33/100\n",
            "\u001b[1m1534/1534\u001b[0m \u001b[32m━━━━━━━━━━━━━━━━━━━━\u001b[0m\u001b[37m\u001b[0m \u001b[1m11s\u001b[0m 7ms/step - loss: 133274157056.0000 - val_loss: 108031721472.0000\n",
            "Epoch 34/100\n",
            "\u001b[1m1534/1534\u001b[0m \u001b[32m━━━━━━━━━━━━━━━━━━━━\u001b[0m\u001b[37m\u001b[0m \u001b[1m21s\u001b[0m 8ms/step - loss: 126119133184.0000 - val_loss: 109875322880.0000\n",
            "Epoch 35/100\n",
            "\u001b[1m1534/1534\u001b[0m \u001b[32m━━━━━━━━━━━━━━━━━━━━\u001b[0m\u001b[37m\u001b[0m \u001b[1m19s\u001b[0m 7ms/step - loss: 111080243200.0000 - val_loss: 106629914624.0000\n",
            "Epoch 36/100\n",
            "\u001b[1m1534/1534\u001b[0m \u001b[32m━━━━━━━━━━━━━━━━━━━━\u001b[0m\u001b[37m\u001b[0m \u001b[1m20s\u001b[0m 7ms/step - loss: 125684948992.0000 - val_loss: 109365788672.0000\n",
            "Epoch 37/100\n",
            "\u001b[1m1534/1534\u001b[0m \u001b[32m━━━━━━━━━━━━━━━━━━━━\u001b[0m\u001b[37m\u001b[0m \u001b[1m9s\u001b[0m 6ms/step - loss: 120030994432.0000 - val_loss: 105611730944.0000\n",
            "Epoch 38/100\n",
            "\u001b[1m1534/1534\u001b[0m \u001b[32m━━━━━━━━━━━━━━━━━━━━\u001b[0m\u001b[37m\u001b[0m \u001b[1m10s\u001b[0m 6ms/step - loss: 112776814592.0000 - val_loss: 106316529664.0000\n",
            "Epoch 39/100\n",
            "\u001b[1m1534/1534\u001b[0m \u001b[32m━━━━━━━━━━━━━━━━━━━━\u001b[0m\u001b[37m\u001b[0m \u001b[1m10s\u001b[0m 7ms/step - loss: 112525967360.0000 - val_loss: 105308774400.0000\n",
            "Epoch 40/100\n",
            "\u001b[1m1534/1534\u001b[0m \u001b[32m━━━━━━━━━━━━━━━━━━━━\u001b[0m\u001b[37m\u001b[0m \u001b[1m22s\u001b[0m 8ms/step - loss: 119378165760.0000 - val_loss: 111750135808.0000\n",
            "Epoch 41/100\n",
            "\u001b[1m1534/1534\u001b[0m \u001b[32m━━━━━━━━━━━━━━━━━━━━\u001b[0m\u001b[37m\u001b[0m \u001b[1m17s\u001b[0m 6ms/step - loss: 110471880704.0000 - val_loss: 104498348032.0000\n",
            "Epoch 42/100\n",
            "\u001b[1m1534/1534\u001b[0m \u001b[32m━━━━━━━━━━━━━━━━━━━━\u001b[0m\u001b[37m\u001b[0m \u001b[1m10s\u001b[0m 7ms/step - loss: 115288956928.0000 - val_loss: 104986910720.0000\n",
            "Epoch 43/100\n",
            "\u001b[1m1534/1534\u001b[0m \u001b[32m━━━━━━━━━━━━━━━━━━━━\u001b[0m\u001b[37m\u001b[0m \u001b[1m11s\u001b[0m 7ms/step - loss: 126590164992.0000 - val_loss: 110388486144.0000\n",
            "Epoch 44/100\n",
            "\u001b[1m1534/1534\u001b[0m \u001b[32m━━━━━━━━━━━━━━━━━━━━\u001b[0m\u001b[37m\u001b[0m \u001b[1m19s\u001b[0m 6ms/step - loss: 118755770368.0000 - val_loss: 104155160576.0000\n",
            "Epoch 45/100\n",
            "\u001b[1m1534/1534\u001b[0m \u001b[32m━━━━━━━━━━━━━━━━━━━━\u001b[0m\u001b[37m\u001b[0m \u001b[1m10s\u001b[0m 6ms/step - loss: 104014766080.0000 - val_loss: 103459078144.0000\n",
            "Epoch 46/100\n",
            "\u001b[1m1534/1534\u001b[0m \u001b[32m━━━━━━━━━━━━━━━━━━━━\u001b[0m\u001b[37m\u001b[0m \u001b[1m10s\u001b[0m 7ms/step - loss: 115794763776.0000 - val_loss: 105908428800.0000\n",
            "Epoch 47/100\n",
            "\u001b[1m1534/1534\u001b[0m \u001b[32m━━━━━━━━━━━━━━━━━━━━\u001b[0m\u001b[37m\u001b[0m \u001b[1m11s\u001b[0m 7ms/step - loss: 114896297984.0000 - val_loss: 104513593344.0000\n",
            "Epoch 48/100\n",
            "\u001b[1m1534/1534\u001b[0m \u001b[32m━━━━━━━━━━━━━━━━━━━━\u001b[0m\u001b[37m\u001b[0m \u001b[1m10s\u001b[0m 7ms/step - loss: 104351244288.0000 - val_loss: 102793281536.0000\n",
            "Epoch 49/100\n",
            "\u001b[1m1534/1534\u001b[0m \u001b[32m━━━━━━━━━━━━━━━━━━━━\u001b[0m\u001b[37m\u001b[0m \u001b[1m20s\u001b[0m 6ms/step - loss: 102727598080.0000 - val_loss: 103427440640.0000\n",
            "Epoch 50/100\n",
            "\u001b[1m1534/1534\u001b[0m \u001b[32m━━━━━━━━━━━━━━━━━━━━\u001b[0m\u001b[37m\u001b[0m \u001b[1m10s\u001b[0m 7ms/step - loss: 105649029120.0000 - val_loss: 102072008704.0000\n",
            "Epoch 51/100\n",
            "\u001b[1m1534/1534\u001b[0m \u001b[32m━━━━━━━━━━━━━━━━━━━━\u001b[0m\u001b[37m\u001b[0m \u001b[1m10s\u001b[0m 6ms/step - loss: 122959421440.0000 - val_loss: 104277311488.0000\n",
            "Epoch 52/100\n",
            "\u001b[1m1534/1534\u001b[0m \u001b[32m━━━━━━━━━━━━━━━━━━━━\u001b[0m\u001b[37m\u001b[0m \u001b[1m9s\u001b[0m 6ms/step - loss: 119311753216.0000 - val_loss: 105147940864.0000\n",
            "Epoch 53/100\n",
            "\u001b[1m1534/1534\u001b[0m \u001b[32m━━━━━━━━━━━━━━━━━━━━\u001b[0m\u001b[37m\u001b[0m \u001b[1m10s\u001b[0m 6ms/step - loss: 155629551616.0000 - val_loss: 102458572800.0000\n",
            "Epoch 54/100\n",
            "\u001b[1m1534/1534\u001b[0m \u001b[32m━━━━━━━━━━━━━━━━━━━━\u001b[0m\u001b[37m\u001b[0m \u001b[1m11s\u001b[0m 7ms/step - loss: 115974250496.0000 - val_loss: 102011379712.0000\n",
            "Epoch 55/100\n",
            "\u001b[1m1534/1534\u001b[0m \u001b[32m━━━━━━━━━━━━━━━━━━━━\u001b[0m\u001b[37m\u001b[0m \u001b[1m10s\u001b[0m 7ms/step - loss: 119585177600.0000 - val_loss: 101177376768.0000\n",
            "Epoch 56/100\n",
            "\u001b[1m1534/1534\u001b[0m \u001b[32m━━━━━━━━━━━━━━━━━━━━\u001b[0m\u001b[37m\u001b[0m \u001b[1m10s\u001b[0m 7ms/step - loss: 113696022528.0000 - val_loss: 106202734592.0000\n",
            "Epoch 57/100\n",
            "\u001b[1m1534/1534\u001b[0m \u001b[32m━━━━━━━━━━━━━━━━━━━━\u001b[0m\u001b[37m\u001b[0m \u001b[1m10s\u001b[0m 7ms/step - loss: 125912875008.0000 - val_loss: 100252663808.0000\n",
            "Epoch 58/100\n",
            "\u001b[1m1534/1534\u001b[0m \u001b[32m━━━━━━━━━━━━━━━━━━━━\u001b[0m\u001b[37m\u001b[0m \u001b[1m9s\u001b[0m 6ms/step - loss: 105178439680.0000 - val_loss: 101518991360.0000\n",
            "Epoch 59/100\n",
            "\u001b[1m1534/1534\u001b[0m \u001b[32m━━━━━━━━━━━━━━━━━━━━\u001b[0m\u001b[37m\u001b[0m \u001b[1m10s\u001b[0m 6ms/step - loss: 104478121984.0000 - val_loss: 101856985088.0000\n",
            "Epoch 60/100\n",
            "\u001b[1m1534/1534\u001b[0m \u001b[32m━━━━━━━━━━━━━━━━━━━━\u001b[0m\u001b[37m\u001b[0m \u001b[1m11s\u001b[0m 7ms/step - loss: 112285966336.0000 - val_loss: 100532158464.0000\n",
            "Epoch 61/100\n",
            "\u001b[1m1534/1534\u001b[0m \u001b[32m━━━━━━━━━━━━━━━━━━━━\u001b[0m\u001b[37m\u001b[0m \u001b[1m22s\u001b[0m 8ms/step - loss: 106206625792.0000 - val_loss: 101727297536.0000\n",
            "Epoch 62/100\n",
            "\u001b[1m1534/1534\u001b[0m \u001b[32m━━━━━━━━━━━━━━━━━━━━\u001b[0m\u001b[37m\u001b[0m \u001b[1m9s\u001b[0m 6ms/step - loss: 122006937600.0000 - val_loss: 104250171392.0000\n",
            "Epoch 63/100\n",
            "\u001b[1m1534/1534\u001b[0m \u001b[32m━━━━━━━━━━━━━━━━━━━━\u001b[0m\u001b[37m\u001b[0m \u001b[1m11s\u001b[0m 6ms/step - loss: 119992565760.0000 - val_loss: 100456710144.0000\n",
            "Epoch 64/100\n",
            "\u001b[1m1534/1534\u001b[0m \u001b[32m━━━━━━━━━━━━━━━━━━━━\u001b[0m\u001b[37m\u001b[0m \u001b[1m12s\u001b[0m 7ms/step - loss: 102216613888.0000 - val_loss: 101428912128.0000\n",
            "Epoch 65/100\n",
            "\u001b[1m1534/1534\u001b[0m \u001b[32m━━━━━━━━━━━━━━━━━━━━\u001b[0m\u001b[37m\u001b[0m \u001b[1m20s\u001b[0m 7ms/step - loss: 108721496064.0000 - val_loss: 98951266304.0000\n",
            "Epoch 66/100\n",
            "\u001b[1m1534/1534\u001b[0m \u001b[32m━━━━━━━━━━━━━━━━━━━━\u001b[0m\u001b[37m\u001b[0m \u001b[1m10s\u001b[0m 6ms/step - loss: 102193217536.0000 - val_loss: 100386340864.0000\n",
            "Epoch 67/100\n",
            "\u001b[1m1534/1534\u001b[0m \u001b[32m━━━━━━━━━━━━━━━━━━━━\u001b[0m\u001b[37m\u001b[0m \u001b[1m10s\u001b[0m 6ms/step - loss: 114017869824.0000 - val_loss: 102375874560.0000\n",
            "Epoch 68/100\n",
            "\u001b[1m1534/1534\u001b[0m \u001b[32m━━━━━━━━━━━━━━━━━━━━\u001b[0m\u001b[37m\u001b[0m \u001b[1m10s\u001b[0m 7ms/step - loss: 93855006720.0000 - val_loss: 100233076736.0000\n",
            "Epoch 69/100\n",
            "\u001b[1m1534/1534\u001b[0m \u001b[32m━━━━━━━━━━━━━━━━━━━━\u001b[0m\u001b[37m\u001b[0m \u001b[1m10s\u001b[0m 7ms/step - loss: 102827302912.0000 - val_loss: 102136209408.0000\n",
            "Epoch 70/100\n",
            "\u001b[1m1534/1534\u001b[0m \u001b[32m━━━━━━━━━━━━━━━━━━━━\u001b[0m\u001b[37m\u001b[0m \u001b[1m21s\u001b[0m 7ms/step - loss: 105709191168.0000 - val_loss: 104549244928.0000\n",
            "Epoch 71/100\n",
            "\u001b[1m1534/1534\u001b[0m \u001b[32m━━━━━━━━━━━━━━━━━━━━\u001b[0m\u001b[37m\u001b[0m \u001b[1m9s\u001b[0m 6ms/step - loss: 115373088768.0000 - val_loss: 102360195072.0000\n",
            "Epoch 72/100\n",
            "\u001b[1m1534/1534\u001b[0m \u001b[32m━━━━━━━━━━━━━━━━━━━━\u001b[0m\u001b[37m\u001b[0m \u001b[1m11s\u001b[0m 7ms/step - loss: 108025151488.0000 - val_loss: 100287610880.0000\n",
            "Epoch 73/100\n",
            "\u001b[1m1534/1534\u001b[0m \u001b[32m━━━━━━━━━━━━━━━━━━━━\u001b[0m\u001b[37m\u001b[0m \u001b[1m11s\u001b[0m 7ms/step - loss: 113709432832.0000 - val_loss: 98285756416.0000\n",
            "Epoch 74/100\n",
            "\u001b[1m1534/1534\u001b[0m \u001b[32m━━━━━━━━━━━━━━━━━━━━\u001b[0m\u001b[37m\u001b[0m \u001b[1m11s\u001b[0m 7ms/step - loss: 101993037824.0000 - val_loss: 99830120448.0000\n",
            "Epoch 75/100\n",
            "\u001b[1m1534/1534\u001b[0m \u001b[32m━━━━━━━━━━━━━━━━━━━━\u001b[0m\u001b[37m\u001b[0m \u001b[1m18s\u001b[0m 6ms/step - loss: 106426744832.0000 - val_loss: 97299136512.0000\n",
            "Epoch 76/100\n",
            "\u001b[1m1534/1534\u001b[0m \u001b[32m━━━━━━━━━━━━━━━━━━━━\u001b[0m\u001b[37m\u001b[0m \u001b[1m11s\u001b[0m 7ms/step - loss: 113201307648.0000 - val_loss: 97073668096.0000\n",
            "Epoch 77/100\n",
            "\u001b[1m1534/1534\u001b[0m \u001b[32m━━━━━━━━━━━━━━━━━━━━\u001b[0m\u001b[37m\u001b[0m \u001b[1m10s\u001b[0m 7ms/step - loss: 105810468864.0000 - val_loss: 102197280768.0000\n",
            "Epoch 78/100\n",
            "\u001b[1m1534/1534\u001b[0m \u001b[32m━━━━━━━━━━━━━━━━━━━━\u001b[0m\u001b[37m\u001b[0m \u001b[1m11s\u001b[0m 7ms/step - loss: 120311013376.0000 - val_loss: 100863344640.0000\n",
            "Epoch 79/100\n",
            "\u001b[1m1534/1534\u001b[0m \u001b[32m━━━━━━━━━━━━━━━━━━━━\u001b[0m\u001b[37m\u001b[0m \u001b[1m19s\u001b[0m 6ms/step - loss: 101383798784.0000 - val_loss: 100887216128.0000\n",
            "Epoch 80/100\n",
            "\u001b[1m1534/1534\u001b[0m \u001b[32m━━━━━━━━━━━━━━━━━━━━\u001b[0m\u001b[37m\u001b[0m \u001b[1m11s\u001b[0m 7ms/step - loss: 103478132736.0000 - val_loss: 97825857536.0000\n",
            "Epoch 81/100\n",
            "\u001b[1m1534/1534\u001b[0m \u001b[32m━━━━━━━━━━━━━━━━━━━━\u001b[0m\u001b[37m\u001b[0m \u001b[1m11s\u001b[0m 7ms/step - loss: 107830550528.0000 - val_loss: 97606279168.0000\n",
            "Epoch 82/100\n",
            "\u001b[1m1534/1534\u001b[0m \u001b[32m━━━━━━━━━━━━━━━━━━━━\u001b[0m\u001b[37m\u001b[0m \u001b[1m19s\u001b[0m 6ms/step - loss: 95515418624.0000 - val_loss: 97549074432.0000\n",
            "Epoch 83/100\n",
            "\u001b[1m1534/1534\u001b[0m \u001b[32m━━━━━━━━━━━━━━━━━━━━\u001b[0m\u001b[37m\u001b[0m \u001b[1m10s\u001b[0m 6ms/step - loss: 103609507840.0000 - val_loss: 98109071360.0000\n",
            "Epoch 84/100\n",
            "\u001b[1m1534/1534\u001b[0m \u001b[32m━━━━━━━━━━━━━━━━━━━━\u001b[0m\u001b[37m\u001b[0m \u001b[1m10s\u001b[0m 7ms/step - loss: 115510829056.0000 - val_loss: 99565993984.0000\n",
            "Epoch 85/100\n",
            "\u001b[1m1534/1534\u001b[0m \u001b[32m━━━━━━━━━━━━━━━━━━━━\u001b[0m\u001b[37m\u001b[0m \u001b[1m11s\u001b[0m 7ms/step - loss: 118563618816.0000 - val_loss: 97408884736.0000\n",
            "Epoch 86/100\n",
            "\u001b[1m1534/1534\u001b[0m \u001b[32m━━━━━━━━━━━━━━━━━━━━\u001b[0m\u001b[37m\u001b[0m \u001b[1m11s\u001b[0m 7ms/step - loss: 115165495296.0000 - val_loss: 97614053376.0000\n",
            "Epoch 87/100\n",
            "\u001b[1m1534/1534\u001b[0m \u001b[32m━━━━━━━━━━━━━━━━━━━━\u001b[0m\u001b[37m\u001b[0m \u001b[1m20s\u001b[0m 6ms/step - loss: 107899551744.0000 - val_loss: 96615825408.0000\n",
            "Epoch 88/100\n",
            "\u001b[1m1534/1534\u001b[0m \u001b[32m━━━━━━━━━━━━━━━━━━━━\u001b[0m\u001b[37m\u001b[0m \u001b[1m11s\u001b[0m 7ms/step - loss: 115068436480.0000 - val_loss: 98486042624.0000\n",
            "Epoch 89/100\n",
            "\u001b[1m1534/1534\u001b[0m \u001b[32m━━━━━━━━━━━━━━━━━━━━\u001b[0m\u001b[37m\u001b[0m \u001b[1m21s\u001b[0m 8ms/step - loss: 103604305920.0000 - val_loss: 97855553536.0000\n",
            "Epoch 90/100\n",
            "\u001b[1m1534/1534\u001b[0m \u001b[32m━━━━━━━━━━━━━━━━━━━━\u001b[0m\u001b[37m\u001b[0m \u001b[1m18s\u001b[0m 6ms/step - loss: 102202392576.0000 - val_loss: 96843554816.0000\n",
            "Epoch 91/100\n",
            "\u001b[1m1534/1534\u001b[0m \u001b[32m━━━━━━━━━━━━━━━━━━━━\u001b[0m\u001b[37m\u001b[0m \u001b[1m12s\u001b[0m 7ms/step - loss: 98341789696.0000 - val_loss: 99056771072.0000\n",
            "Epoch 92/100\n",
            "\u001b[1m1534/1534\u001b[0m \u001b[32m━━━━━━━━━━━━━━━━━━━━\u001b[0m\u001b[37m\u001b[0m \u001b[1m10s\u001b[0m 7ms/step - loss: 112462651392.0000 - val_loss: 95838765056.0000\n",
            "Epoch 93/100\n",
            "\u001b[1m1534/1534\u001b[0m \u001b[32m━━━━━━━━━━━━━━━━━━━━\u001b[0m\u001b[37m\u001b[0m \u001b[1m21s\u001b[0m 7ms/step - loss: 97962360832.0000 - val_loss: 96853729280.0000\n",
            "Epoch 94/100\n",
            "\u001b[1m1534/1534\u001b[0m \u001b[32m━━━━━━━━━━━━━━━━━━━━\u001b[0m\u001b[37m\u001b[0m \u001b[1m9s\u001b[0m 6ms/step - loss: 106768261120.0000 - val_loss: 95135801344.0000\n",
            "Epoch 95/100\n",
            "\u001b[1m1534/1534\u001b[0m \u001b[32m━━━━━━━━━━━━━━━━━━━━\u001b[0m\u001b[37m\u001b[0m \u001b[1m10s\u001b[0m 6ms/step - loss: 110560903168.0000 - val_loss: 94458830848.0000\n",
            "Epoch 96/100\n",
            "\u001b[1m1534/1534\u001b[0m \u001b[32m━━━━━━━━━━━━━━━━━━━━\u001b[0m\u001b[37m\u001b[0m \u001b[1m11s\u001b[0m 7ms/step - loss: 108876906496.0000 - val_loss: 94684831744.0000\n",
            "Epoch 97/100\n",
            "\u001b[1m1534/1534\u001b[0m \u001b[32m━━━━━━━━━━━━━━━━━━━━\u001b[0m\u001b[37m\u001b[0m \u001b[1m11s\u001b[0m 7ms/step - loss: 102452862976.0000 - val_loss: 94560174080.0000\n",
            "Epoch 98/100\n",
            "\u001b[1m1534/1534\u001b[0m \u001b[32m━━━━━━━━━━━━━━━━━━━━\u001b[0m\u001b[37m\u001b[0m \u001b[1m10s\u001b[0m 7ms/step - loss: 107506155520.0000 - val_loss: 100731789312.0000\n",
            "Epoch 99/100\n",
            "\u001b[1m1534/1534\u001b[0m \u001b[32m━━━━━━━━━━━━━━━━━━━━\u001b[0m\u001b[37m\u001b[0m \u001b[1m9s\u001b[0m 6ms/step - loss: 96090808320.0000 - val_loss: 94999724032.0000\n",
            "Epoch 100/100\n",
            "\u001b[1m1534/1534\u001b[0m \u001b[32m━━━━━━━━━━━━━━━━━━━━\u001b[0m\u001b[37m\u001b[0m \u001b[1m10s\u001b[0m 7ms/step - loss: 96999350272.0000 - val_loss: 95536914432.0000\n"
          ]
        },
        {
          "output_type": "execute_result",
          "data": {
            "text/plain": [
              "<keras.src.callbacks.history.History at 0x79a872a78350>"
            ]
          },
          "metadata": {},
          "execution_count": 4
        }
      ]
    },
    {
      "cell_type": "code",
      "source": [
        "# Предсказание цен на проверочной выборке\n",
        "y_pred = model.predict(X_val)\n",
        "\n",
        "# Вычисление MSE\n",
        "mse = np.mean((y_val - y_pred.flatten()) ** 2)\n",
        "print(f'Mean Squared Error на проверочной выборке: {mse}')\n"
      ],
      "metadata": {
        "colab": {
          "base_uri": "https://localhost:8080/"
        },
        "id": "vKeUzpUnP7w1",
        "outputId": "a5c5a2e5-f8b4-4a46-c93f-1871e70e6007"
      },
      "execution_count": 7,
      "outputs": [
        {
          "output_type": "stream",
          "name": "stdout",
          "text": [
            "\u001b[1m329/329\u001b[0m \u001b[32m━━━━━━━━━━━━━━━━━━━━\u001b[0m\u001b[37m\u001b[0m \u001b[1m1s\u001b[0m 2ms/step\n",
            "Mean Squared Error на проверочной выборке: 95536973347.1121\n"
          ]
        }
      ]
    },
    {
      "cell_type": "code",
      "source": [],
      "metadata": {
        "id": "8NEbzFwxP8so"
      },
      "execution_count": null,
      "outputs": []
    }
  ],
  "metadata": {
    "colab": {
      "provenance": [],
      "include_colab_link": true
    },
    "kernelspec": {
      "display_name": "Python [conda env:base] *",
      "language": "python",
      "name": "conda-base-py"
    },
    "language_info": {
      "codemirror_mode": {
        "name": "ipython",
        "version": 3
      },
      "file_extension": ".py",
      "mimetype": "text/x-python",
      "name": "python",
      "nbconvert_exporter": "python",
      "pygments_lexer": "ipython3",
      "version": "3.12.7"
    }
  },
  "nbformat": 4,
  "nbformat_minor": 0
}